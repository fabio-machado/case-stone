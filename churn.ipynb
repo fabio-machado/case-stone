{
 "metadata": {
  "language_info": {
   "codemirror_mode": {
    "name": "ipython",
    "version": 3
   },
   "file_extension": ".py",
   "mimetype": "text/x-python",
   "name": "python",
   "nbconvert_exporter": "python",
   "pygments_lexer": "ipython3",
   "version": "3.8.3-final"
  },
  "orig_nbformat": 2,
  "kernelspec": {
   "name": "python3",
   "display_name": "Python 3",
   "language": "python"
  }
 },
 "nbformat": 4,
 "nbformat_minor": 2,
 "cells": [
  {
   "cell_type": "code",
   "execution_count": 1,
   "metadata": {},
   "outputs": [],
   "source": [
    "import pandas as pd"
   ]
  },
  {
   "cell_type": "code",
   "execution_count": 2,
   "metadata": {},
   "outputs": [],
   "source": [
    "df = pd.read_excel('base_clientes.xlsx')"
   ]
  },
  {
   "cell_type": "code",
   "execution_count": 3,
   "metadata": {},
   "outputs": [
    {
     "output_type": "execute_result",
     "data": {
      "text/plain": [
       "   Número do Cliente   MCC Data Apuração Data de Entrada do Cliente    Canal  \\\n",
       "0    100910138884288  5309    2016-10-01                 2016-01-07  Canal 3   \n",
       "1    100101693498007  5963    2016-10-01                 2015-12-10  Canal 3   \n",
       "2    100990966870135  5814    2016-10-01                 2016-03-29  Canal 3   \n",
       "3    100112746462403  7230    2016-10-01                 2016-07-26  Canal 3   \n",
       "4    100101114264588  7997    2016-10-01                 2016-04-13  Canal 1   \n",
       "\n",
       "           Cidade  Volume Transacionado  Quantidade de Transações  \\\n",
       "0         Niterói             189012.41                    2235.0   \n",
       "1  Rio de Janeiro                  0.00                       0.0   \n",
       "2  Rio de Janeiro             240922.64                    1190.0   \n",
       "3         Niterói                  0.00                       0.0   \n",
       "4        Brasília               3634.70                      56.0   \n",
       "\n",
       "   Net MDR (Receita)  Aluguel (Receita)  Pre-pagamento (Receita)  \\\n",
       "0             122.27              74.09                     0.00   \n",
       "1               0.00               0.00                     0.00   \n",
       "2            1149.34             143.38                  4317.06   \n",
       "3               0.00               0.00                     0.00   \n",
       "4              61.73               0.00                     0.00   \n",
       "\n",
       "   Total (Receita)  Pre-pagamento (Custos)  Equipamento/Logística (Custos)  \\\n",
       "0           196.36                    0.00                         -141.11   \n",
       "1             0.00                    0.00                          -13.00   \n",
       "2          5609.78                -1525.63                         -312.13   \n",
       "3             0.00                    0.00                            0.00   \n",
       "4            61.73                    0.00                            0.00   \n",
       "\n",
       "   Comissões (Custos)  Transacionais (Custos)  Outros (Custos)  \\\n",
       "0                 0.0                 -143.14           -46.39   \n",
       "1                 0.0                    0.00             0.00   \n",
       "2                 0.0                 -108.58          -146.24   \n",
       "3                 0.0                    0.00           -24.01   \n",
       "4                 0.0                  -12.58           -52.55   \n",
       "\n",
       "   Total (Custos)   Lucro   grupos  \n",
       "0         -330.64  -134.28       1  \n",
       "1          -13.00   -13.00       1  \n",
       "2        -2092.58  3517.21       1  \n",
       "3          -24.01   -24.01       1  \n",
       "4          -65.13    -3.39       2  "
      ],
      "text/html": "<div>\n<style scoped>\n    .dataframe tbody tr th:only-of-type {\n        vertical-align: middle;\n    }\n\n    .dataframe tbody tr th {\n        vertical-align: top;\n    }\n\n    .dataframe thead th {\n        text-align: right;\n    }\n</style>\n<table border=\"1\" class=\"dataframe\">\n  <thead>\n    <tr style=\"text-align: right;\">\n      <th></th>\n      <th>Número do Cliente</th>\n      <th>MCC</th>\n      <th>Data Apuração</th>\n      <th>Data de Entrada do Cliente</th>\n      <th>Canal</th>\n      <th>Cidade</th>\n      <th>Volume Transacionado</th>\n      <th>Quantidade de Transações</th>\n      <th>Net MDR (Receita)</th>\n      <th>Aluguel (Receita)</th>\n      <th>Pre-pagamento (Receita)</th>\n      <th>Total (Receita)</th>\n      <th>Pre-pagamento (Custos)</th>\n      <th>Equipamento/Logística (Custos)</th>\n      <th>Comissões (Custos)</th>\n      <th>Transacionais (Custos)</th>\n      <th>Outros (Custos)</th>\n      <th>Total (Custos)</th>\n      <th>Lucro</th>\n      <th>grupos</th>\n    </tr>\n  </thead>\n  <tbody>\n    <tr>\n      <th>0</th>\n      <td>100910138884288</td>\n      <td>5309</td>\n      <td>2016-10-01</td>\n      <td>2016-01-07</td>\n      <td>Canal 3</td>\n      <td>Niterói</td>\n      <td>189012.41</td>\n      <td>2235.0</td>\n      <td>122.27</td>\n      <td>74.09</td>\n      <td>0.00</td>\n      <td>196.36</td>\n      <td>0.00</td>\n      <td>-141.11</td>\n      <td>0.0</td>\n      <td>-143.14</td>\n      <td>-46.39</td>\n      <td>-330.64</td>\n      <td>-134.28</td>\n      <td>1</td>\n    </tr>\n    <tr>\n      <th>1</th>\n      <td>100101693498007</td>\n      <td>5963</td>\n      <td>2016-10-01</td>\n      <td>2015-12-10</td>\n      <td>Canal 3</td>\n      <td>Rio de Janeiro</td>\n      <td>0.00</td>\n      <td>0.0</td>\n      <td>0.00</td>\n      <td>0.00</td>\n      <td>0.00</td>\n      <td>0.00</td>\n      <td>0.00</td>\n      <td>-13.00</td>\n      <td>0.0</td>\n      <td>0.00</td>\n      <td>0.00</td>\n      <td>-13.00</td>\n      <td>-13.00</td>\n      <td>1</td>\n    </tr>\n    <tr>\n      <th>2</th>\n      <td>100990966870135</td>\n      <td>5814</td>\n      <td>2016-10-01</td>\n      <td>2016-03-29</td>\n      <td>Canal 3</td>\n      <td>Rio de Janeiro</td>\n      <td>240922.64</td>\n      <td>1190.0</td>\n      <td>1149.34</td>\n      <td>143.38</td>\n      <td>4317.06</td>\n      <td>5609.78</td>\n      <td>-1525.63</td>\n      <td>-312.13</td>\n      <td>0.0</td>\n      <td>-108.58</td>\n      <td>-146.24</td>\n      <td>-2092.58</td>\n      <td>3517.21</td>\n      <td>1</td>\n    </tr>\n    <tr>\n      <th>3</th>\n      <td>100112746462403</td>\n      <td>7230</td>\n      <td>2016-10-01</td>\n      <td>2016-07-26</td>\n      <td>Canal 3</td>\n      <td>Niterói</td>\n      <td>0.00</td>\n      <td>0.0</td>\n      <td>0.00</td>\n      <td>0.00</td>\n      <td>0.00</td>\n      <td>0.00</td>\n      <td>0.00</td>\n      <td>0.00</td>\n      <td>0.0</td>\n      <td>0.00</td>\n      <td>-24.01</td>\n      <td>-24.01</td>\n      <td>-24.01</td>\n      <td>1</td>\n    </tr>\n    <tr>\n      <th>4</th>\n      <td>100101114264588</td>\n      <td>7997</td>\n      <td>2016-10-01</td>\n      <td>2016-04-13</td>\n      <td>Canal 1</td>\n      <td>Brasília</td>\n      <td>3634.70</td>\n      <td>56.0</td>\n      <td>61.73</td>\n      <td>0.00</td>\n      <td>0.00</td>\n      <td>61.73</td>\n      <td>0.00</td>\n      <td>0.00</td>\n      <td>0.0</td>\n      <td>-12.58</td>\n      <td>-52.55</td>\n      <td>-65.13</td>\n      <td>-3.39</td>\n      <td>2</td>\n    </tr>\n  </tbody>\n</table>\n</div>"
     },
     "metadata": {},
     "execution_count": 3
    }
   ],
   "source": [
    "df.head()"
   ]
  },
  {
   "cell_type": "code",
   "execution_count": 4,
   "metadata": {},
   "outputs": [],
   "source": [
    "df['Status do Cliente'] = df['Quantidade de Transações'].apply(lambda x: 'Ativo' if x>0 else 'Inativo')"
   ]
  },
  {
   "cell_type": "code",
   "execution_count": 5,
   "metadata": {},
   "outputs": [],
   "source": [
    "data_ref = df['Data Apuração'].unique()"
   ]
  },
  {
   "cell_type": "code",
   "execution_count": 7,
   "metadata": {},
   "outputs": [
    {
     "output_type": "stream",
     "name": "stdout",
     "text": [
      "Não é possível determinar o churn e o tempo médio de vida para a \ndata de 2016-10-01T00:00:00.000000000 pois não há histórico de dados anteriores!\n------------------------------------------------------------------------------\n\nClientes inativos no mês atual: 549\nClientes ativos no mês passado 105\nTotal de clientes ativos no mês passado: 1719\nChurn para a data de referência 2016-11-01T00:00:00.000000000 é de 0.0611\nO tempo de vida médio para a data de refência é de 16.4 meses\n------------------------------------------------------------------------------\n\nClientes inativos no mês atual: 524\nClientes ativos no mês passado 108\nTotal de clientes ativos no mês passado: 1877\nChurn para a data de referência 2016-12-01T00:00:00.000000000 é de 0.0575\nO tempo de vida médio para a data de refência é de 17.4 meses\n------------------------------------------------------------------------------\n\nClientes inativos no mês atual: 565\nClientes ativos no mês passado 138\nTotal de clientes ativos no mês passado: 1997\nChurn para a data de referência 2017-01-01T00:00:00.000000000 é de 0.0691\nO tempo de vida médio para a data de refência é de 14.5 meses\n------------------------------------------------------------------------------\n\nClientes inativos no mês atual: 531\nClientes ativos no mês passado 108\nTotal de clientes ativos no mês passado: 2025\nChurn para a data de referência 2017-02-01T00:00:00.000000000 é de 0.0533\nO tempo de vida médio para a data de refência é de 18.8 meses\n------------------------------------------------------------------------------\n\n"
     ]
    }
   ],
   "source": [
    "for i in range(len(data_ref)):\n",
    "    \n",
    "    if data_ref[i] > min(df['Data Apuração']):\n",
    "        \n",
    "        lista_inativos_mes_atual = df.loc[ \n",
    "            (df['Data Apuração']==data_ref[i]) & \n",
    "            (df['Status do Cliente']=='Inativo'), \n",
    "            'Número do Cliente' ]\n",
    "\n",
    "        numerador = len(\n",
    "            df.loc[ \n",
    "            (df['Data Apuração']==data_ref[i-1]) & \n",
    "            (df['Status do Cliente']=='Ativo') &\n",
    "            (df['Número do Cliente'].isin(list(lista_inativos_mes_atual))), \n",
    "            'Número do Cliente' \n",
    "            ]\n",
    "        )\n",
    "        \n",
    "        denominador = len(\n",
    "            df.loc[ \n",
    "            (df['Data Apuração']==data_ref[i-1]) & \n",
    "            (df['Status do Cliente']=='Ativo'), \n",
    "            'Número do Cliente' \n",
    "            ]\n",
    "        )\n",
    "\n",
    "        churn = round(numerador/denominador, 4)\n",
    "        tempo_medio = round(1/churn, 1)\n",
    "\n",
    "        print( 'Clientes inativos no mês atual:', len(lista_inativos_mes_atual) )\n",
    "        print( 'Clientes ativos no mês passado', numerador)\n",
    "        print( 'Total de clientes ativos no mês passado:', denominador )\n",
    "        print( 'Churn para a data de referência', data_ref[i], 'é de', churn )\n",
    "        print( 'O tempo de vida médio para a data de refência é de', tempo_medio, 'meses' )\n",
    "        print( '------------------------------------------------------------------------------\\n' )\n",
    "\n",
    "    else:\n",
    "\n",
    "        print( 'Não é possível determinar o churn e o tempo médio de vida para a \\ndata de', data_ref[i], 'pois não há histórico de dados anteriores!' )\n",
    "        print( '------------------------------------------------------------------------------\\n' )\n",
    "        churn = 0\n",
    "        tempo_medio = 0\n",
    "\n",
    "    df.loc[ (df['Data Apuração']==data_ref[i]), 'Churn' ] = churn\n",
    "    df.loc[ (df['Data Apuração']==data_ref[i]), 'Tempo de Vida Médio (Meses)' ] = tempo_medio\n",
    "        "
   ]
  },
  {
   "cell_type": "code",
   "execution_count": 10,
   "metadata": {},
   "outputs": [],
   "source": [
    "df.to_excel('dados_consolidados.xlsx', index=False)"
   ]
  },
  {
   "cell_type": "code",
   "execution_count": null,
   "metadata": {},
   "outputs": [],
   "source": []
  }
 ]
}